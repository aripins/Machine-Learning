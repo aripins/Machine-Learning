{
  "nbformat": 4,
  "nbformat_minor": 0,
  "metadata": {
    "colab": {
      "provenance": []
    },
    "kernelspec": {
      "name": "python3",
      "display_name": "Python 3"
    },
    "language_info": {
      "name": "python"
    }
  },
  "cells": [
    {
      "cell_type": "code",
      "execution_count": 1,
      "metadata": {
        "colab": {
          "base_uri": "https://localhost:8080/"
        },
        "id": "DxnsvveNYxJJ",
        "outputId": "dda609ff-3b24-4bcb-d140-9e88658943bf"
      },
      "outputs": [
        {
          "output_type": "stream",
          "name": "stdout",
          "text": [
            "sihabudin going to campus.\n"
          ]
        }
      ],
      "source": [
        "def to_lowercase(text):\n",
        "    return text.lower()\n",
        "\n",
        "# Contoh penggunaan\n",
        "sample_text = \"Sihabudin going to campus.\"\n",
        "print(to_lowercase(sample_text))\n"
      ]
    },
    {
      "cell_type": "code",
      "source": [
        "import string\n",
        "\n",
        "def remove_punctuation(text):\n",
        "    return text.translate(str.maketrans('', '', string.punctuation))\n",
        "\n",
        "# Contoh penggunaan\n",
        "sample_text = \"Sihab, stay here plese!\"\n",
        "print(remove_punctuation(sample_text))\n"
      ],
      "metadata": {
        "colab": {
          "base_uri": "https://localhost:8080/"
        },
        "id": "lxy6-x7QdPqH",
        "outputId": "602f9a07-f0d6-4070-9976-897c104cbfb8"
      },
      "execution_count": 2,
      "outputs": [
        {
          "output_type": "stream",
          "name": "stdout",
          "text": [
            "Sihab stay here plese\n"
          ]
        }
      ]
    },
    {
      "cell_type": "code",
      "source": [
        "import re\n",
        "\n",
        "def remove_numbers(text):\n",
        "    return re.sub(r'\\d+', '', text)\n",
        "\n",
        "# Contoh penggunaan\n",
        "sample_text = \"Dzikri can speak 2 languages, Indonesia and English.\"\n",
        "print(remove_numbers(sample_text))\n"
      ],
      "metadata": {
        "colab": {
          "base_uri": "https://localhost:8080/"
        },
        "id": "N16eY9z8dRb-",
        "outputId": "55cdcae9-be95-47be-8a9b-a527c40cbc6c"
      },
      "execution_count": 3,
      "outputs": [
        {
          "output_type": "stream",
          "name": "stdout",
          "text": [
            "Dzikri can speak  languages, Indonesia and English.\n"
          ]
        }
      ]
    },
    {
      "cell_type": "code",
      "source": [
        "from nltk.tokenize import word_tokenize\n",
        "import nltk\n",
        "\n",
        "nltk.download('punkt')\n",
        "\n",
        "def tokenize(text):\n",
        "    return word_tokenize(text)\n",
        "\n",
        "# Contoh penggunaan\n",
        "sample_text = \"I like machine learning course.\"\n",
        "print(tokenize(sample_text))\n"
      ],
      "metadata": {
        "colab": {
          "base_uri": "https://localhost:8080/"
        },
        "id": "_cJIwqE-dc1A",
        "outputId": "cf2817dd-25f6-4ae6-b580-e8be5a1c7253"
      },
      "execution_count": 4,
      "outputs": [
        {
          "output_type": "stream",
          "name": "stderr",
          "text": [
            "[nltk_data] Downloading package punkt to /root/nltk_data...\n",
            "[nltk_data]   Unzipping tokenizers/punkt.zip.\n"
          ]
        },
        {
          "output_type": "stream",
          "name": "stdout",
          "text": [
            "['I', 'like', 'machine', 'learning', 'course', '.']\n"
          ]
        }
      ]
    },
    {
      "cell_type": "code",
      "source": [
        "from nltk.corpus import stopwords\n",
        "\n",
        "nltk.download('stopwords')\n",
        "\n",
        "def remove_stopwords(words):\n",
        "    stop_words = set(stopwords.words('english'))\n",
        "    return [word for word in words if word not in stop_words]\n",
        "\n",
        "# Contoh penggunaan\n",
        "sample_text = \"I choose Informatics Engineering for my major.\"\n",
        "tokenized_text = tokenize(sample_text)\n",
        "print(remove_stopwords(tokenized_text))\n"
      ],
      "metadata": {
        "colab": {
          "base_uri": "https://localhost:8080/"
        },
        "id": "gcbsxqv8etEQ",
        "outputId": "1d137e2a-c270-43e4-92a1-906649976ccf"
      },
      "execution_count": 5,
      "outputs": [
        {
          "output_type": "stream",
          "name": "stdout",
          "text": [
            "['I', 'choose', 'Informatics', 'Engineering', 'major', '.']\n"
          ]
        },
        {
          "output_type": "stream",
          "name": "stderr",
          "text": [
            "[nltk_data] Downloading package stopwords to /root/nltk_data...\n",
            "[nltk_data]   Unzipping corpora/stopwords.zip.\n"
          ]
        }
      ]
    },
    {
      "cell_type": "code",
      "source": [
        "from nltk.stem import PorterStemmer\n",
        "\n",
        "def stem_words(words):\n",
        "    ps = PorterStemmer()\n",
        "    return [ps.stem(word) for word in words]\n",
        "\n",
        "# Contoh penggunaan\n",
        "sample_text = \"Dont forget my name!.\"\n",
        "tokenized_text = tokenize(sample_text)\n",
        "filtered_words = remove_stopwords(tokenized_text)\n",
        "print(stem_words(filtered_words))\n"
      ],
      "metadata": {
        "id": "uBkU5DCgfOZc",
        "outputId": "59cb8132-7ea5-4413-e709-b78e4020cc39",
        "colab": {
          "base_uri": "https://localhost:8080/"
        }
      },
      "execution_count": 6,
      "outputs": [
        {
          "output_type": "stream",
          "name": "stdout",
          "text": [
            "['dont', 'forget', 'name', '!', '.']\n"
          ]
        }
      ]
    },
    {
      "cell_type": "code",
      "source": [
        "sentence1 = \"I love Harry Potter movies\"\n",
        "sentence2 = \"Harmonie Granger is so beatifull in Harry Potter movies\"\n",
        "sentence3 = \"in Harry Potter movies Harmonie so smart too\""
      ],
      "metadata": {
        "id": "m8n5VQsUgWXp"
      },
      "execution_count": 7,
      "outputs": []
    },
    {
      "cell_type": "code",
      "source": [
        "import pandas as pd\n",
        "from sklearn.feature_extraction.text import CountVectorizer\n",
        "docs = [sentence1, sentence2, sentence3]\n",
        "print(docs)"
      ],
      "metadata": {
        "colab": {
          "base_uri": "https://localhost:8080/"
        },
        "id": "tcb96JN0goyX",
        "outputId": "bcfb341e-11c2-4db7-c9af-9fcb747d2802"
      },
      "execution_count": 8,
      "outputs": [
        {
          "output_type": "stream",
          "name": "stdout",
          "text": [
            "['I love Harry Potter movies', 'Harmonie Granger is so beatifull in Harry Potter movies', 'in Harry Potter movies Harmonie so smart too']\n"
          ]
        }
      ]
    },
    {
      "cell_type": "code",
      "source": [
        "#Mendefinisikan dan menyesuaikan count vectorizer pada dokumen.\n",
        "\n",
        "vec = CountVectorizer()\n",
        "X = vec.fit_transform(docs)\n",
        "#Mengonversi vektor pada DataFrame menggunakan pandas\n",
        "\n",
        "df = pd.DataFrame(X.toarray(),\n",
        "    columns=vec.get_feature_names_out())\n",
        "df.head()"
      ],
      "metadata": {
        "colab": {
          "base_uri": "https://localhost:8080/",
          "height": 143
        },
        "id": "qncwNZRXg1l1",
        "outputId": "7135b552-4d28-44b6-b8fb-c9c4d7642530"
      },
      "execution_count": 9,
      "outputs": [
        {
          "output_type": "execute_result",
          "data": {
            "text/plain": [
              "   beatifull  granger  harmonie  harry  in  is  love  movies  potter  smart  \\\n",
              "0          0        0         0      1   0   0     1       1       1      0   \n",
              "1          1        1         1      1   1   1     0       1       1      0   \n",
              "2          0        0         1      1   1   0     0       1       1      1   \n",
              "\n",
              "   so  too  \n",
              "0   0    0  \n",
              "1   1    0  \n",
              "2   1    1  "
            ],
            "text/html": [
              "\n",
              "  <div id=\"df-7d489a4d-398f-481c-9d49-3e45f220b76a\" class=\"colab-df-container\">\n",
              "    <div>\n",
              "<style scoped>\n",
              "    .dataframe tbody tr th:only-of-type {\n",
              "        vertical-align: middle;\n",
              "    }\n",
              "\n",
              "    .dataframe tbody tr th {\n",
              "        vertical-align: top;\n",
              "    }\n",
              "\n",
              "    .dataframe thead th {\n",
              "        text-align: right;\n",
              "    }\n",
              "</style>\n",
              "<table border=\"1\" class=\"dataframe\">\n",
              "  <thead>\n",
              "    <tr style=\"text-align: right;\">\n",
              "      <th></th>\n",
              "      <th>beatifull</th>\n",
              "      <th>granger</th>\n",
              "      <th>harmonie</th>\n",
              "      <th>harry</th>\n",
              "      <th>in</th>\n",
              "      <th>is</th>\n",
              "      <th>love</th>\n",
              "      <th>movies</th>\n",
              "      <th>potter</th>\n",
              "      <th>smart</th>\n",
              "      <th>so</th>\n",
              "      <th>too</th>\n",
              "    </tr>\n",
              "  </thead>\n",
              "  <tbody>\n",
              "    <tr>\n",
              "      <th>0</th>\n",
              "      <td>0</td>\n",
              "      <td>0</td>\n",
              "      <td>0</td>\n",
              "      <td>1</td>\n",
              "      <td>0</td>\n",
              "      <td>0</td>\n",
              "      <td>1</td>\n",
              "      <td>1</td>\n",
              "      <td>1</td>\n",
              "      <td>0</td>\n",
              "      <td>0</td>\n",
              "      <td>0</td>\n",
              "    </tr>\n",
              "    <tr>\n",
              "      <th>1</th>\n",
              "      <td>1</td>\n",
              "      <td>1</td>\n",
              "      <td>1</td>\n",
              "      <td>1</td>\n",
              "      <td>1</td>\n",
              "      <td>1</td>\n",
              "      <td>0</td>\n",
              "      <td>1</td>\n",
              "      <td>1</td>\n",
              "      <td>0</td>\n",
              "      <td>1</td>\n",
              "      <td>0</td>\n",
              "    </tr>\n",
              "    <tr>\n",
              "      <th>2</th>\n",
              "      <td>0</td>\n",
              "      <td>0</td>\n",
              "      <td>1</td>\n",
              "      <td>1</td>\n",
              "      <td>1</td>\n",
              "      <td>0</td>\n",
              "      <td>0</td>\n",
              "      <td>1</td>\n",
              "      <td>1</td>\n",
              "      <td>1</td>\n",
              "      <td>1</td>\n",
              "      <td>1</td>\n",
              "    </tr>\n",
              "  </tbody>\n",
              "</table>\n",
              "</div>\n",
              "    <div class=\"colab-df-buttons\">\n",
              "\n",
              "  <div class=\"colab-df-container\">\n",
              "    <button class=\"colab-df-convert\" onclick=\"convertToInteractive('df-7d489a4d-398f-481c-9d49-3e45f220b76a')\"\n",
              "            title=\"Convert this dataframe to an interactive table.\"\n",
              "            style=\"display:none;\">\n",
              "\n",
              "  <svg xmlns=\"http://www.w3.org/2000/svg\" height=\"24px\" viewBox=\"0 -960 960 960\">\n",
              "    <path d=\"M120-120v-720h720v720H120Zm60-500h600v-160H180v160Zm220 220h160v-160H400v160Zm0 220h160v-160H400v160ZM180-400h160v-160H180v160Zm440 0h160v-160H620v160ZM180-180h160v-160H180v160Zm440 0h160v-160H620v160Z\"/>\n",
              "  </svg>\n",
              "    </button>\n",
              "\n",
              "  <style>\n",
              "    .colab-df-container {\n",
              "      display:flex;\n",
              "      gap: 12px;\n",
              "    }\n",
              "\n",
              "    .colab-df-convert {\n",
              "      background-color: #E8F0FE;\n",
              "      border: none;\n",
              "      border-radius: 50%;\n",
              "      cursor: pointer;\n",
              "      display: none;\n",
              "      fill: #1967D2;\n",
              "      height: 32px;\n",
              "      padding: 0 0 0 0;\n",
              "      width: 32px;\n",
              "    }\n",
              "\n",
              "    .colab-df-convert:hover {\n",
              "      background-color: #E2EBFA;\n",
              "      box-shadow: 0px 1px 2px rgba(60, 64, 67, 0.3), 0px 1px 3px 1px rgba(60, 64, 67, 0.15);\n",
              "      fill: #174EA6;\n",
              "    }\n",
              "\n",
              "    .colab-df-buttons div {\n",
              "      margin-bottom: 4px;\n",
              "    }\n",
              "\n",
              "    [theme=dark] .colab-df-convert {\n",
              "      background-color: #3B4455;\n",
              "      fill: #D2E3FC;\n",
              "    }\n",
              "\n",
              "    [theme=dark] .colab-df-convert:hover {\n",
              "      background-color: #434B5C;\n",
              "      box-shadow: 0px 1px 3px 1px rgba(0, 0, 0, 0.15);\n",
              "      filter: drop-shadow(0px 1px 2px rgba(0, 0, 0, 0.3));\n",
              "      fill: #FFFFFF;\n",
              "    }\n",
              "  </style>\n",
              "\n",
              "    <script>\n",
              "      const buttonEl =\n",
              "        document.querySelector('#df-7d489a4d-398f-481c-9d49-3e45f220b76a button.colab-df-convert');\n",
              "      buttonEl.style.display =\n",
              "        google.colab.kernel.accessAllowed ? 'block' : 'none';\n",
              "\n",
              "      async function convertToInteractive(key) {\n",
              "        const element = document.querySelector('#df-7d489a4d-398f-481c-9d49-3e45f220b76a');\n",
              "        const dataTable =\n",
              "          await google.colab.kernel.invokeFunction('convertToInteractive',\n",
              "                                                    [key], {});\n",
              "        if (!dataTable) return;\n",
              "\n",
              "        const docLinkHtml = 'Like what you see? Visit the ' +\n",
              "          '<a target=\"_blank\" href=https://colab.research.google.com/notebooks/data_table.ipynb>data table notebook</a>'\n",
              "          + ' to learn more about interactive tables.';\n",
              "        element.innerHTML = '';\n",
              "        dataTable['output_type'] = 'display_data';\n",
              "        await google.colab.output.renderOutput(dataTable, element);\n",
              "        const docLink = document.createElement('div');\n",
              "        docLink.innerHTML = docLinkHtml;\n",
              "        element.appendChild(docLink);\n",
              "      }\n",
              "    </script>\n",
              "  </div>\n",
              "\n",
              "\n",
              "<div id=\"df-30127b6f-0426-45ea-92fd-32da61189453\">\n",
              "  <button class=\"colab-df-quickchart\" onclick=\"quickchart('df-30127b6f-0426-45ea-92fd-32da61189453')\"\n",
              "            title=\"Suggest charts\"\n",
              "            style=\"display:none;\">\n",
              "\n",
              "<svg xmlns=\"http://www.w3.org/2000/svg\" height=\"24px\"viewBox=\"0 0 24 24\"\n",
              "     width=\"24px\">\n",
              "    <g>\n",
              "        <path d=\"M19 3H5c-1.1 0-2 .9-2 2v14c0 1.1.9 2 2 2h14c1.1 0 2-.9 2-2V5c0-1.1-.9-2-2-2zM9 17H7v-7h2v7zm4 0h-2V7h2v10zm4 0h-2v-4h2v4z\"/>\n",
              "    </g>\n",
              "</svg>\n",
              "  </button>\n",
              "\n",
              "<style>\n",
              "  .colab-df-quickchart {\n",
              "      --bg-color: #E8F0FE;\n",
              "      --fill-color: #1967D2;\n",
              "      --hover-bg-color: #E2EBFA;\n",
              "      --hover-fill-color: #174EA6;\n",
              "      --disabled-fill-color: #AAA;\n",
              "      --disabled-bg-color: #DDD;\n",
              "  }\n",
              "\n",
              "  [theme=dark] .colab-df-quickchart {\n",
              "      --bg-color: #3B4455;\n",
              "      --fill-color: #D2E3FC;\n",
              "      --hover-bg-color: #434B5C;\n",
              "      --hover-fill-color: #FFFFFF;\n",
              "      --disabled-bg-color: #3B4455;\n",
              "      --disabled-fill-color: #666;\n",
              "  }\n",
              "\n",
              "  .colab-df-quickchart {\n",
              "    background-color: var(--bg-color);\n",
              "    border: none;\n",
              "    border-radius: 50%;\n",
              "    cursor: pointer;\n",
              "    display: none;\n",
              "    fill: var(--fill-color);\n",
              "    height: 32px;\n",
              "    padding: 0;\n",
              "    width: 32px;\n",
              "  }\n",
              "\n",
              "  .colab-df-quickchart:hover {\n",
              "    background-color: var(--hover-bg-color);\n",
              "    box-shadow: 0 1px 2px rgba(60, 64, 67, 0.3), 0 1px 3px 1px rgba(60, 64, 67, 0.15);\n",
              "    fill: var(--button-hover-fill-color);\n",
              "  }\n",
              "\n",
              "  .colab-df-quickchart-complete:disabled,\n",
              "  .colab-df-quickchart-complete:disabled:hover {\n",
              "    background-color: var(--disabled-bg-color);\n",
              "    fill: var(--disabled-fill-color);\n",
              "    box-shadow: none;\n",
              "  }\n",
              "\n",
              "  .colab-df-spinner {\n",
              "    border: 2px solid var(--fill-color);\n",
              "    border-color: transparent;\n",
              "    border-bottom-color: var(--fill-color);\n",
              "    animation:\n",
              "      spin 1s steps(1) infinite;\n",
              "  }\n",
              "\n",
              "  @keyframes spin {\n",
              "    0% {\n",
              "      border-color: transparent;\n",
              "      border-bottom-color: var(--fill-color);\n",
              "      border-left-color: var(--fill-color);\n",
              "    }\n",
              "    20% {\n",
              "      border-color: transparent;\n",
              "      border-left-color: var(--fill-color);\n",
              "      border-top-color: var(--fill-color);\n",
              "    }\n",
              "    30% {\n",
              "      border-color: transparent;\n",
              "      border-left-color: var(--fill-color);\n",
              "      border-top-color: var(--fill-color);\n",
              "      border-right-color: var(--fill-color);\n",
              "    }\n",
              "    40% {\n",
              "      border-color: transparent;\n",
              "      border-right-color: var(--fill-color);\n",
              "      border-top-color: var(--fill-color);\n",
              "    }\n",
              "    60% {\n",
              "      border-color: transparent;\n",
              "      border-right-color: var(--fill-color);\n",
              "    }\n",
              "    80% {\n",
              "      border-color: transparent;\n",
              "      border-right-color: var(--fill-color);\n",
              "      border-bottom-color: var(--fill-color);\n",
              "    }\n",
              "    90% {\n",
              "      border-color: transparent;\n",
              "      border-bottom-color: var(--fill-color);\n",
              "    }\n",
              "  }\n",
              "</style>\n",
              "\n",
              "  <script>\n",
              "    async function quickchart(key) {\n",
              "      const quickchartButtonEl =\n",
              "        document.querySelector('#' + key + ' button');\n",
              "      quickchartButtonEl.disabled = true;  // To prevent multiple clicks.\n",
              "      quickchartButtonEl.classList.add('colab-df-spinner');\n",
              "      try {\n",
              "        const charts = await google.colab.kernel.invokeFunction(\n",
              "            'suggestCharts', [key], {});\n",
              "      } catch (error) {\n",
              "        console.error('Error during call to suggestCharts:', error);\n",
              "      }\n",
              "      quickchartButtonEl.classList.remove('colab-df-spinner');\n",
              "      quickchartButtonEl.classList.add('colab-df-quickchart-complete');\n",
              "    }\n",
              "    (() => {\n",
              "      let quickchartButtonEl =\n",
              "        document.querySelector('#df-30127b6f-0426-45ea-92fd-32da61189453 button');\n",
              "      quickchartButtonEl.style.display =\n",
              "        google.colab.kernel.accessAllowed ? 'block' : 'none';\n",
              "    })();\n",
              "  </script>\n",
              "</div>\n",
              "    </div>\n",
              "  </div>\n"
            ],
            "application/vnd.google.colaboratory.intrinsic+json": {
              "type": "dataframe",
              "variable_name": "df",
              "summary": "{\n  \"name\": \"df\",\n  \"rows\": 3,\n  \"fields\": [\n    {\n      \"column\": \"beatifull\",\n      \"properties\": {\n        \"dtype\": \"number\",\n        \"std\": 0,\n        \"min\": 0,\n        \"max\": 1,\n        \"num_unique_values\": 2,\n        \"samples\": [\n          1,\n          0\n        ],\n        \"semantic_type\": \"\",\n        \"description\": \"\"\n      }\n    },\n    {\n      \"column\": \"granger\",\n      \"properties\": {\n        \"dtype\": \"number\",\n        \"std\": 0,\n        \"min\": 0,\n        \"max\": 1,\n        \"num_unique_values\": 2,\n        \"samples\": [\n          1,\n          0\n        ],\n        \"semantic_type\": \"\",\n        \"description\": \"\"\n      }\n    },\n    {\n      \"column\": \"harmonie\",\n      \"properties\": {\n        \"dtype\": \"number\",\n        \"std\": 0,\n        \"min\": 0,\n        \"max\": 1,\n        \"num_unique_values\": 2,\n        \"samples\": [\n          1,\n          0\n        ],\n        \"semantic_type\": \"\",\n        \"description\": \"\"\n      }\n    },\n    {\n      \"column\": \"harry\",\n      \"properties\": {\n        \"dtype\": \"number\",\n        \"std\": 0,\n        \"min\": 1,\n        \"max\": 1,\n        \"num_unique_values\": 1,\n        \"samples\": [\n          1\n        ],\n        \"semantic_type\": \"\",\n        \"description\": \"\"\n      }\n    },\n    {\n      \"column\": \"in\",\n      \"properties\": {\n        \"dtype\": \"number\",\n        \"std\": 0,\n        \"min\": 0,\n        \"max\": 1,\n        \"num_unique_values\": 2,\n        \"samples\": [\n          1\n        ],\n        \"semantic_type\": \"\",\n        \"description\": \"\"\n      }\n    },\n    {\n      \"column\": \"is\",\n      \"properties\": {\n        \"dtype\": \"number\",\n        \"std\": 0,\n        \"min\": 0,\n        \"max\": 1,\n        \"num_unique_values\": 2,\n        \"samples\": [\n          1\n        ],\n        \"semantic_type\": \"\",\n        \"description\": \"\"\n      }\n    },\n    {\n      \"column\": \"love\",\n      \"properties\": {\n        \"dtype\": \"number\",\n        \"std\": 0,\n        \"min\": 0,\n        \"max\": 1,\n        \"num_unique_values\": 2,\n        \"samples\": [\n          0\n        ],\n        \"semantic_type\": \"\",\n        \"description\": \"\"\n      }\n    },\n    {\n      \"column\": \"movies\",\n      \"properties\": {\n        \"dtype\": \"number\",\n        \"std\": 0,\n        \"min\": 1,\n        \"max\": 1,\n        \"num_unique_values\": 1,\n        \"samples\": [\n          1\n        ],\n        \"semantic_type\": \"\",\n        \"description\": \"\"\n      }\n    },\n    {\n      \"column\": \"potter\",\n      \"properties\": {\n        \"dtype\": \"number\",\n        \"std\": 0,\n        \"min\": 1,\n        \"max\": 1,\n        \"num_unique_values\": 1,\n        \"samples\": [\n          1\n        ],\n        \"semantic_type\": \"\",\n        \"description\": \"\"\n      }\n    },\n    {\n      \"column\": \"smart\",\n      \"properties\": {\n        \"dtype\": \"number\",\n        \"std\": 0,\n        \"min\": 0,\n        \"max\": 1,\n        \"num_unique_values\": 2,\n        \"samples\": [\n          1\n        ],\n        \"semantic_type\": \"\",\n        \"description\": \"\"\n      }\n    },\n    {\n      \"column\": \"so\",\n      \"properties\": {\n        \"dtype\": \"number\",\n        \"std\": 0,\n        \"min\": 0,\n        \"max\": 1,\n        \"num_unique_values\": 2,\n        \"samples\": [\n          1\n        ],\n        \"semantic_type\": \"\",\n        \"description\": \"\"\n      }\n    },\n    {\n      \"column\": \"too\",\n      \"properties\": {\n        \"dtype\": \"number\",\n        \"std\": 0,\n        \"min\": 0,\n        \"max\": 1,\n        \"num_unique_values\": 2,\n        \"samples\": [\n          1\n        ],\n        \"semantic_type\": \"\",\n        \"description\": \"\"\n      }\n    }\n  ]\n}"
            }
          },
          "metadata": {},
          "execution_count": 9
        }
      ]
    },
    {
      "cell_type": "code",
      "source": [
        "import numpy as np\n",
        "from collections import Counter\n",
        "from math import log\n",
        "\n",
        "# Tiga dokumen dalam korpus\n",
        "documents = [\n",
        "    \"Severus Snape is so danger\",\n",
        "    \"Harry Potter can kill Severus Snape\"\n",
        "    ]\n",
        "\n",
        "# Preprocessing: Lowercasing and tokenizing\n",
        "tokenized_documents = [doc.lower().split() for doc in documents]\n",
        "\n",
        "# Menghitung TF\n",
        "def compute_tf(tokenized_doc):\n",
        "    tf_dict = {}\n",
        "    term_count = Counter(tokenized_doc)\n",
        "    total_terms = len(tokenized_doc)\n",
        "    for term, count in term_count.items():\n",
        "        tf_dict[term] = count / total_terms\n",
        "    return tf_dict\n",
        "\n",
        "tf_list = [compute_tf(doc) for doc in tokenized_documents]\n",
        "\n",
        "print(\"Term Frequency (TF):\")\n",
        "for idx, tf in enumerate(tf_list):\n",
        "    print(f\"Document {idx + 1} TF:\")\n",
        "    for term, score in tf.items():\n",
        "        print(f\"    {term}: {score:.4f}\")\n"
      ],
      "metadata": {
        "colab": {
          "base_uri": "https://localhost:8080/"
        },
        "id": "nN06ffX_M49M",
        "outputId": "25fb20ca-cd60-4ef5-f1d3-5020fb681aac"
      },
      "execution_count": 10,
      "outputs": [
        {
          "output_type": "stream",
          "name": "stdout",
          "text": [
            "Term Frequency (TF):\n",
            "Document 1 TF:\n",
            "    severus: 0.2000\n",
            "    snape: 0.2000\n",
            "    is: 0.2000\n",
            "    so: 0.2000\n",
            "    danger: 0.2000\n",
            "Document 2 TF:\n",
            "    harry: 0.1667\n",
            "    potter: 0.1667\n",
            "    can: 0.1667\n",
            "    kill: 0.1667\n",
            "    severus: 0.1667\n",
            "    snape: 0.1667\n"
          ]
        }
      ]
    },
    {
      "cell_type": "code",
      "source": [
        "# Menghitung IDF\n",
        "def compute_idf(tokenized_docs):\n",
        "    idf_dict = {}\n",
        "    total_docs = len(tokenized_docs)\n",
        "    all_terms = set(term for doc in tokenized_docs for term in doc)\n",
        "    for term in all_terms:\n",
        "        doc_containing_term = sum(1 for doc in tokenized_docs if term in doc)\n",
        "        idf_dict[term] = log(total_docs / (1 + doc_containing_term)) + 1\n",
        "    return idf_dict\n",
        "\n",
        "idf_dict = compute_idf(tokenized_documents)\n",
        "\n",
        "print(\"\\nInverse Document Frequency (IDF):\")\n",
        "for term, score in idf_dict.items():\n",
        "    print(f\"    {term}: {score:.4f}\")\n"
      ],
      "metadata": {
        "colab": {
          "base_uri": "https://localhost:8080/"
        },
        "id": "MGpZKYNgO-Ed",
        "outputId": "bbf1e840-f3fe-4ce2-f477-a52ddb747142"
      },
      "execution_count": 11,
      "outputs": [
        {
          "output_type": "stream",
          "name": "stdout",
          "text": [
            "\n",
            "Inverse Document Frequency (IDF):\n",
            "    danger: 1.0000\n",
            "    harry: 1.0000\n",
            "    so: 1.0000\n",
            "    potter: 1.0000\n",
            "    snape: 0.5945\n",
            "    can: 1.0000\n",
            "    kill: 1.0000\n",
            "    is: 1.0000\n",
            "    severus: 0.5945\n"
          ]
        }
      ]
    },
    {
      "cell_type": "code",
      "source": [
        "# Menghitung TF-IDF\n",
        "def compute_tfidf(tf_list, idf_dict):\n",
        "    tfidf_list = []\n",
        "    for tf in tf_list:\n",
        "        tfidf_dict = {}\n",
        "        for term, tf_value in tf.items():\n",
        "            tfidf_dict[term] = tf_value * idf_dict.get(term, 0)\n",
        "        tfidf_list.append(tfidf_dict)\n",
        "    return tfidf_list\n",
        "\n",
        "tfidf_list = compute_tfidf(tf_list, idf_dict)\n",
        "\n",
        "print(\"\\nTF-IDF:\")\n",
        "for idx, tfidf in enumerate(tfidf_list):\n",
        "    print(f\"Document {idx + 1} TF-IDF:\")\n",
        "    for term, score in tfidf.items():\n",
        "        print(f\"    {term}: {score:.4f}\")"
      ],
      "metadata": {
        "colab": {
          "base_uri": "https://localhost:8080/"
        },
        "id": "w36ZT0myY6-a",
        "outputId": "98832778-7d23-4cf1-95a7-968cc9de4961"
      },
      "execution_count": 12,
      "outputs": [
        {
          "output_type": "stream",
          "name": "stdout",
          "text": [
            "\n",
            "TF-IDF:\n",
            "Document 1 TF-IDF:\n",
            "    severus: 0.1189\n",
            "    snape: 0.1189\n",
            "    is: 0.2000\n",
            "    so: 0.2000\n",
            "    danger: 0.2000\n",
            "Document 2 TF-IDF:\n",
            "    harry: 0.1667\n",
            "    potter: 0.1667\n",
            "    can: 0.1667\n",
            "    kill: 0.1667\n",
            "    severus: 0.0991\n",
            "    snape: 0.0991\n"
          ]
        }
      ]
    },
    {
      "cell_type": "code",
      "source": [
        "from gensim.models import Word2Vec\n",
        "import numpy as np\n",
        "\n",
        "corpus = [\n",
        "    'Harry Potter is my favorite one character in Harry Potter movies.',\n",
        "    'Harmonie is my second favorite character in Harry Potter movies.',\n",
        "    'Ron Weasles is my third favorite character in Harry Potter movies..'\n",
        "]\n",
        "\n",
        "sentences = [doc.split() for doc in corpus]\n",
        "model = Word2Vec(sentences, vector_size=100, window=5, min_count=1, workers=4)\n",
        "\n",
        "def document_vector(doc):\n",
        "    return np.mean([model.wv[word] for word in doc.split() if word in model.wv], axis=0)\n",
        "\n",
        "doc_vectors = [document_vector(doc) for doc in corpus]\n",
        "print(doc_vectors)\n"
      ],
      "metadata": {
        "id": "g4KJeGi1jt-k",
        "outputId": "2cfb1790-d028-480a-df1e-9e0841fdbf24",
        "colab": {
          "base_uri": "https://localhost:8080/"
        }
      },
      "execution_count": 13,
      "outputs": [
        {
          "output_type": "stream",
          "name": "stdout",
          "text": [
            "[array([-1.66641141e-03,  2.16215174e-03,  1.32544164e-03,  1.41314091e-03,\n",
            "        6.08421920e-04, -1.92189845e-03,  3.26976390e-03,  4.17150371e-03,\n",
            "       -2.51867925e-03, -3.46732140e-03,  1.98364211e-03, -2.18229182e-03,\n",
            "       -2.32981960e-03,  1.10365823e-03, -4.92488965e-04, -9.39447928e-05,\n",
            "        4.30912664e-03,  2.27175048e-03, -3.49220261e-03, -4.25478024e-03,\n",
            "        1.34532363e-03, -4.49883402e-04,  5.71221160e-03, -1.06209423e-03,\n",
            "        7.26817671e-05,  6.84585655e-04,  2.29056939e-04,  2.18429137e-03,\n",
            "       -2.61831866e-03,  1.76909124e-03,  1.32741581e-03, -1.67309691e-03,\n",
            "       -1.51058717e-04, -5.31912269e-03, -7.29974301e-04,  3.60981561e-04,\n",
            "        3.51012964e-03,  3.40464787e-04,  1.57709917e-04,  1.55780511e-03,\n",
            "        2.73082382e-03, -1.83449755e-03, -3.04894522e-03,  1.19402306e-04,\n",
            "        2.51020421e-03,  2.13022064e-03, -1.43106515e-03,  3.36136931e-04,\n",
            "        1.38517015e-03,  1.12066616e-03,  5.59474400e-04, -1.98119925e-03,\n",
            "       -1.89652244e-04, -1.63785438e-03, -2.53399322e-03, -9.17880971e-04,\n",
            "        2.34385883e-03, -1.08600641e-03, -2.14658305e-03,  1.30382541e-03,\n",
            "       -1.86846344e-04, -1.11629243e-03,  1.44580414e-03, -1.41995773e-03,\n",
            "        3.88810993e-04,  3.57681164e-03,  1.26135396e-03,  2.38262117e-03,\n",
            "       -1.82970765e-03,  7.51496873e-06,  5.14608866e-04,  9.81721096e-04,\n",
            "        2.21520383e-03,  1.56695058e-03,  4.41248150e-04, -5.86750160e-04,\n",
            "        1.41364720e-03,  1.66694028e-03,  5.26681717e-04, -2.48116534e-03,\n",
            "       -3.01352423e-03, -7.88271951e-04,  1.15048105e-03, -1.08417822e-03,\n",
            "       -1.09502254e-03, -2.88124289e-03,  3.79147404e-03, -9.60674835e-04,\n",
            "       -6.34193188e-04, -1.48037623e-03,  1.10561785e-03,  4.03223763e-04,\n",
            "        9.29719186e-04, -1.54536357e-03,  3.93257057e-03,  1.04196661e-03,\n",
            "        1.42236683e-03, -2.88009038e-03, -1.04076939e-03,  1.48192991e-03],\n",
            "      dtype=float32), array([-2.83192145e-03,  1.50516373e-03,  4.82937234e-04, -2.82771594e-04,\n",
            "       -2.98812047e-05, -3.72417417e-04,  1.32275769e-03,  2.76978128e-03,\n",
            "       -2.42029037e-03, -2.56629614e-03, -5.48401440e-04, -5.42942318e-04,\n",
            "       -2.59996695e-03, -7.68110840e-05,  5.47619653e-04, -1.51603227e-03,\n",
            "        3.70197254e-03,  2.70229275e-03, -2.31366605e-03, -4.17709956e-03,\n",
            "       -1.17503936e-04, -7.48203252e-04,  5.57788182e-03,  1.55545934e-03,\n",
            "        3.03540932e-04,  1.91455358e-03, -1.12150237e-03,  1.81505235e-03,\n",
            "       -2.79285619e-03,  3.58777447e-03,  2.10560672e-03, -3.53930722e-04,\n",
            "       -2.00810231e-04, -4.39374428e-03, -2.57589127e-04, -1.73373250e-04,\n",
            "       -1.90441031e-04, -2.65880779e-04, -4.30400018e-04,  2.97393563e-04,\n",
            "        1.95100193e-03, -1.45167252e-03, -1.99005241e-03,  5.34232589e-04,\n",
            "        1.41148991e-03, -8.68310104e-04, -3.89644585e-04, -8.27783544e-04,\n",
            "        7.59548449e-04, -5.71632590e-05,  9.74161550e-04, -2.78276764e-03,\n",
            "       -8.46583978e-04, -1.78123941e-03, -3.20318714e-03, -8.26213975e-04,\n",
            "        3.97669239e-04, -1.58665481e-03, -1.36403251e-03,  7.59083079e-04,\n",
            "        1.10778643e-03, -8.41929286e-04,  3.39968619e-03,  1.27302526e-04,\n",
            "        1.47050203e-04,  2.50003347e-03,  2.72470061e-03,  3.32780438e-03,\n",
            "       -2.90001975e-03, -5.38704160e-04,  1.36226858e-03,  2.08375184e-03,\n",
            "        9.42355022e-04,  1.84120634e-03,  1.16745534e-03,  1.63471210e-03,\n",
            "        8.48332071e-04,  1.88202783e-03, -2.71520956e-04, -2.13954272e-03,\n",
            "       -2.21036002e-03, -1.65790413e-03,  7.18768686e-04,  1.14186911e-03,\n",
            "       -1.46684796e-03, -3.02941026e-03,  4.45106952e-03,  2.27562385e-04,\n",
            "       -9.38207028e-04, -1.66556274e-03,  1.33778271e-03,  8.58753920e-04,\n",
            "        7.53573724e-04, -2.47261161e-03,  3.19407019e-03,  5.82190347e-04,\n",
            "        3.66054289e-03, -2.76688067e-03,  3.73079209e-04,  1.36611576e-03],\n",
            "      dtype=float32), array([-2.0841155e-03,  2.1895142e-03, -1.9590878e-05,  1.2749828e-03,\n",
            "        2.3563045e-04, -1.9536195e-03,  1.6914681e-03,  3.8692562e-03,\n",
            "       -3.8264105e-03, -2.2031313e-03,  2.2722916e-03, -1.2733203e-03,\n",
            "        1.6650296e-04, -1.7875340e-05,  1.6653858e-03, -7.0098735e-04,\n",
            "        1.8565628e-03, -1.2842003e-04, -2.3845239e-03, -4.5892424e-03,\n",
            "       -7.4502808e-04, -1.3864714e-03,  5.3762388e-03, -9.8103459e-04,\n",
            "       -1.9064239e-04, -8.2953775e-04, -6.0435070e-04,  1.2121781e-03,\n",
            "       -1.0146097e-03,  3.2768873e-04,  3.2600940e-03, -2.0294266e-03,\n",
            "        8.9702883e-04, -4.2724033e-04, -2.5655254e-04,  2.5534818e-03,\n",
            "        2.1168138e-03,  6.3751714e-04, -7.9311040e-04, -7.3738111e-04,\n",
            "        6.2459527e-04, -6.5423158e-04, -2.6373246e-03,  7.1467203e-04,\n",
            "        6.3345022e-04,  5.2750501e-04,  1.5367818e-04,  8.6639822e-04,\n",
            "       -1.0378103e-03,  8.5751119e-04,  1.0687858e-03, -1.6973508e-03,\n",
            "       -1.2851259e-03,  3.1270488e-04, -2.0589356e-03, -2.4233060e-03,\n",
            "        4.6408607e-04, -1.6642109e-03, -3.5974523e-04, -1.8478244e-03,\n",
            "       -8.5316057e-04, -5.3388532e-04,  4.3551852e-03, -1.9985908e-03,\n",
            "       -3.0804870e-03,  2.3538102e-03,  7.3383434e-04,  1.5914532e-03,\n",
            "       -3.3640303e-03, -1.5883149e-04, -2.6596033e-05,  4.0743891e-03,\n",
            "        9.4649248e-04,  3.1894385e-03,  4.8347411e-04,  8.1018102e-04,\n",
            "       -6.2637968e-04,  1.1655079e-03, -8.4591453e-04, -8.0904126e-04,\n",
            "       -2.2801165e-04, -7.3210651e-04,  1.2099431e-03,  7.1268174e-04,\n",
            "       -8.8057853e-04, -2.8846564e-03,  4.2925452e-04, -1.7913718e-03,\n",
            "        6.6314265e-04,  1.0368497e-03, -1.3514371e-04,  1.4435954e-03,\n",
            "        3.6348589e-04, -5.9214770e-04,  5.2358527e-03,  5.4515875e-04,\n",
            "        1.4519569e-03, -1.9524633e-03,  1.2141912e-03, -1.1151861e-03],\n",
            "      dtype=float32)]\n"
          ]
        }
      ]
    },
    {
      "cell_type": "code",
      "source": [
        "!pip install numpy pandas scikit-learn\n"
      ],
      "metadata": {
        "colab": {
          "base_uri": "https://localhost:8080/"
        },
        "id": "ohgoXHT4v5Nn",
        "outputId": "df4cfcfe-c7c0-4527-d71a-77502a92bf46"
      },
      "execution_count": 14,
      "outputs": [
        {
          "output_type": "stream",
          "name": "stdout",
          "text": [
            "Requirement already satisfied: numpy in /usr/local/lib/python3.10/dist-packages (1.25.2)\n",
            "Requirement already satisfied: pandas in /usr/local/lib/python3.10/dist-packages (2.0.3)\n",
            "Requirement already satisfied: scikit-learn in /usr/local/lib/python3.10/dist-packages (1.2.2)\n",
            "Requirement already satisfied: python-dateutil>=2.8.2 in /usr/local/lib/python3.10/dist-packages (from pandas) (2.8.2)\n",
            "Requirement already satisfied: pytz>=2020.1 in /usr/local/lib/python3.10/dist-packages (from pandas) (2023.4)\n",
            "Requirement already satisfied: tzdata>=2022.1 in /usr/local/lib/python3.10/dist-packages (from pandas) (2024.1)\n",
            "Requirement already satisfied: scipy>=1.3.2 in /usr/local/lib/python3.10/dist-packages (from scikit-learn) (1.11.4)\n",
            "Requirement already satisfied: joblib>=1.1.1 in /usr/local/lib/python3.10/dist-packages (from scikit-learn) (1.4.2)\n",
            "Requirement already satisfied: threadpoolctl>=2.0.0 in /usr/local/lib/python3.10/dist-packages (from scikit-learn) (3.5.0)\n",
            "Requirement already satisfied: six>=1.5 in /usr/local/lib/python3.10/dist-packages (from python-dateutil>=2.8.2->pandas) (1.16.0)\n"
          ]
        }
      ]
    },
    {
      "cell_type": "markdown",
      "source": [
        "Klasifikasi teks dengan Machine Learning.\n",
        "This dataset is a collection newsgroup documents. The 20 newsgroups collection has become a popular data set for experiments in text applications of machine learning techniques, such as text classification and text clustering.\n"
      ],
      "metadata": {
        "id": "1G6TqUQzwYrq"
      }
    },
    {
      "cell_type": "code",
      "source": [
        "import numpy as np\n",
        "import pandas as pd\n",
        "from sklearn.datasets import fetch_20newsgroups\n",
        "from sklearn.feature_extraction.text import TfidfVectorizer\n",
        "from sklearn.naive_bayes import MultinomialNB\n",
        "from sklearn.pipeline import make_pipeline\n",
        "from sklearn.model_selection import train_test_split\n",
        "from sklearn import metrics\n",
        "\n",
        "# 1. Mengumpulkan data\n",
        "newsgroups = fetch_20newsgroups(subset='all')\n",
        "\n",
        "# 2. Preprocessing data\n",
        "# Tidak perlu preprocessing khusus karena kita akan menggunakan TfidfVectorizer\n",
        "\n",
        "# 3. Membagi data menjadi training dan testing set\n",
        "X_train, X_test, y_train, y_test = train_test_split(newsgroups.data, newsgroups.target, test_size=0.25, random_state=42)\n",
        "\n",
        "# 4. Melatih model\n",
        "# Membuat pipeline yang mencakup TfidfVectorizer dan MultinomialNB\n",
        "model = make_pipeline(TfidfVectorizer(), MultinomialNB())\n",
        "\n",
        "# Melatih model menggunakan training set\n",
        "model.fit(X_train, y_train)\n",
        "\n",
        "# 5. Mengevaluasi model\n",
        "# Prediksi pada testing set\n",
        "y_pred = model.predict(X_test)\n",
        "\n",
        "# Evaluasi kinerja model\n",
        "print(f\"Accuracy: {metrics.accuracy_score(y_test, y_pred)}\")\n",
        "print(\"Classification Report:\")\n",
        "print(metrics.classification_report(y_test, y_pred, target_names=newsgroups.target_names))\n",
        "\n",
        "# Confusion Matrix\n",
        "print(\"Confusion Matrix:\")\n",
        "print(metrics.confusion_matrix(y_test, y_pred))\n"
      ],
      "metadata": {
        "colab": {
          "base_uri": "https://localhost:8080/"
        },
        "id": "2-IzwLWVwAih",
        "outputId": "327ecafd-6eb3-4251-ada4-d0cbcbdb9f3b"
      },
      "execution_count": 15,
      "outputs": [
        {
          "output_type": "stream",
          "name": "stdout",
          "text": [
            "Accuracy: 0.8425297113752123\n",
            "Classification Report:\n",
            "                          precision    recall  f1-score   support\n",
            "\n",
            "             alt.atheism       0.88      0.72      0.79       198\n",
            "           comp.graphics       0.86      0.79      0.82       245\n",
            " comp.os.ms-windows.misc       0.88      0.83      0.85       242\n",
            "comp.sys.ibm.pc.hardware       0.66      0.86      0.75       238\n",
            "   comp.sys.mac.hardware       0.95      0.84      0.89       250\n",
            "          comp.windows.x       0.96      0.80      0.87       260\n",
            "            misc.forsale       0.96      0.66      0.78       241\n",
            "               rec.autos       0.89      0.93      0.91       244\n",
            "         rec.motorcycles       0.91      0.95      0.93       219\n",
            "      rec.sport.baseball       0.96      0.94      0.95       261\n",
            "        rec.sport.hockey       0.90      0.98      0.94       245\n",
            "               sci.crypt       0.78      0.98      0.87       251\n",
            "         sci.electronics       0.92      0.80      0.86       249\n",
            "                 sci.med       0.97      0.88      0.92       249\n",
            "               sci.space       0.88      0.98      0.93       240\n",
            "  soc.religion.christian       0.49      0.99      0.66       245\n",
            "      talk.politics.guns       0.78      0.96      0.86       230\n",
            "   talk.politics.mideast       0.93      0.97      0.95       234\n",
            "      talk.politics.misc       1.00      0.57      0.73       207\n",
            "      talk.religion.misc       1.00      0.16      0.28       164\n",
            "\n",
            "                accuracy                           0.84      4712\n",
            "               macro avg       0.88      0.83      0.83      4712\n",
            "            weighted avg       0.88      0.84      0.84      4712\n",
            "\n",
            "Confusion Matrix:\n",
            "[[143   0   0   0   0   0   0   0   0   0   0   0   0   0   2  49   1   3\n",
            "    0   0]\n",
            " [  0 193   4  12   0   5   1   2   2   0   0   7   0   0   3  14   0   2\n",
            "    0   0]\n",
            " [  0   5 200  24   1   2   0   2   0   0   0   2   1   0   2   3   0   0\n",
            "    0   0]\n",
            " [  0   5   8 205   7   0   0   1   0   1   2   2   4   0   0   3   0   0\n",
            "    0   0]\n",
            " [  0   1   4  16 209   1   0   2   1   0   3   7   2   0   2   2   0   0\n",
            "    0   0]\n",
            " [  1  13   5   8   1 207   0   0   5   1   2   5   0   0   6   5   1   0\n",
            "    0   0]\n",
            " [  0   0   2  31   2   0 158  12   5   1   2  11   5   1   2   7   1   1\n",
            "    0   0]\n",
            " [  0   2   0   0   0   0   2 226   1   0   1   2   2   1   0   5   2   0\n",
            "    0   0]\n",
            " [  0   0   0   1   0   0   3   3 208   0   0   0   0   0   0   2   2   0\n",
            "    0   0]\n",
            " [  0   0   0   0   0   0   0   0   0 246  10   0   0   0   1   3   0   1\n",
            "    0   0]\n",
            " [  0   0   0   1   0   0   0   1   2   0 240   0   0   0   0   1   0   0\n",
            "    0   0]\n",
            " [  0   1   2   0   0   0   0   0   0   0   0 245   0   0   0   3   0   0\n",
            "    0   0]\n",
            " [  0   3   0  11   0   0   1   5   1   2   2  15 200   1   5   3   0   0\n",
            "    0   0]\n",
            " [  0   0   0   0   0   0   0   1   1   1   0   6   3 218   3  13   3   0\n",
            "    0   0]\n",
            " [  0   1   0   0   0   0   0   0   0   0   0   0   0   2 235   2   0   0\n",
            "    0   0]\n",
            " [  1   0   0   0   0   0   0   0   0   0   0   0   0   0   0 243   0   1\n",
            "    0   0]\n",
            " [  0   0   1   0   0   0   0   0   0   0   0   4   0   0   0   4 221   0\n",
            "    0   0]\n",
            " [  0   0   0   0   0   0   0   0   0   0   0   1   0   0   0   5   0 228\n",
            "    0   0]\n",
            " [  0   0   0   0   0   0   0   0   1   1   1   4   0   2   6  25  41   8\n",
            "  118   0]\n",
            " [ 17   0   0   0   0   0   0   0   2   2   3   2   0   0   0 100  10   1\n",
            "    0  27]]\n"
          ]
        }
      ]
    }
  ]
}